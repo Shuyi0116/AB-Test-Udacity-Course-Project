{
 "cells": [
  {
   "cell_type": "code",
   "execution_count": 14,
   "metadata": {
    "collapsed": true
   },
   "outputs": [],
   "source": [
    "from scipy.stats import norm\n",
    "import numpy as np\n",
    "import math"
   ]
  },
  {
   "cell_type": "code",
   "execution_count": 15,
   "metadata": {
    "collapsed": true
   },
   "outputs": [],
   "source": [
    "# 1. given alpha, calculte z-score\n",
    "def z_score(a):\n",
    "    return -1*norm.ppf(a/2)"
   ]
  },
  {
   "cell_type": "code",
   "execution_count": 98,
   "metadata": {
    "collapsed": true
   },
   "outputs": [],
   "source": [
    "# 2. given alpha, sample size, calculate beta\n",
    "def return_beta(z, p1, d_min, N):\n",
    "    c = p1 + z*math.sqrt(p1*(1-p1)*2/N)\n",
    "    p2 = p1 + d_min\n",
    "    se = math.sqrt(p2*(1-p2)*2/N)\n",
    "    return norm.cdf(c, loc = p2, scale = se)"
   ]
  },
  {
   "cell_type": "code",
   "execution_count": 99,
   "metadata": {
    "collapsed": false
   },
   "outputs": [],
   "source": [
    "# for a series of N, find smallest N that will give target beta\n",
    "def sample_size(alpha, beta, p1, d_min):\n",
    "    z = z_score(alpha)\n",
    "    n = 1\n",
    "    T = True\n",
    "    while T:\n",
    "        if return_beta(z, p1, d_min, n) <= beta:\n",
    "            T = False\n",
    "        n +=1\n",
    "    return n-1"
   ]
  },
  {
   "cell_type": "code",
   "execution_count": 100,
   "metadata": {
    "collapsed": false
   },
   "outputs": [],
   "source": [
    "# firstly try if we need to use Bonferroni correction\n",
    "alpha_total = 0.05\n",
    "b = 0.2\n",
    "n1= sample_size(0.05, b, 0.53, 0.01)\n",
    "n2= sample_size(0.05, b, 0.11, 0.0075)"
   ]
  },
  {
   "cell_type": "code",
   "execution_count": 101,
   "metadata": {
    "collapsed": false
   },
   "outputs": [
    {
     "data": {
      "text/plain": [
       "39071"
      ]
     },
     "execution_count": 101,
     "metadata": {},
     "output_type": "execute_result"
    }
   ],
   "source": [
    "n1"
   ]
  },
  {
   "cell_type": "code",
   "execution_count": 102,
   "metadata": {
    "collapsed": false
   },
   "outputs": [
    {
     "data": {
      "text/plain": [
       "27802"
      ]
     },
     "execution_count": 102,
     "metadata": {},
     "output_type": "execute_result"
    }
   ],
   "source": [
    "n2"
   ]
  },
  {
   "cell_type": "markdown",
   "metadata": {},
   "source": [
    "# Sanity Check"
   ]
  },
  {
   "cell_type": "markdown",
   "metadata": {},
   "source": [
    "## Number of Cookies"
   ]
  },
  {
   "cell_type": "code",
   "execution_count": 138,
   "metadata": {
    "collapsed": true
   },
   "outputs": [],
   "source": [
    "def confidence_interval(n_con, n_exp, p, a):\n",
    "    p_test = n_con/(n_con + n_exp)\n",
    "    se = math.sqrt(p*(1-p)/(n_con + n_exp))\n",
    "    z = z_score(a)\n",
    "    # margin of error\n",
    "    m = z * se\n",
    "    return p - m, p + m, p_test, ((p_test >= p-m) & (p_test <= p + m))"
   ]
  },
  {
   "cell_type": "code",
   "execution_count": 139,
   "metadata": {
    "collapsed": false
   },
   "outputs": [
    {
     "data": {
      "text/plain": [
       "(0.49882041382459419, 0.50117958617540581, 0.5006396668806133, True)"
      ]
     },
     "execution_count": 139,
     "metadata": {},
     "output_type": "execute_result"
    }
   ],
   "source": [
    "n_con = 345543\n",
    "n_exp = 344660\n",
    "p = 0.5\n",
    "a = 0.05\n",
    "confidence_interval(n_con, n_exp, p, a)"
   ]
  },
  {
   "cell_type": "markdown",
   "metadata": {},
   "source": [
    "## Number of Clicks"
   ]
  },
  {
   "cell_type": "code",
   "execution_count": 140,
   "metadata": {
    "collapsed": false
   },
   "outputs": [
    {
     "data": {
      "text/plain": [
       "(0.49588457134714631, 0.50411542865285364, 0.5004673474066628, True)"
      ]
     },
     "execution_count": 140,
     "metadata": {},
     "output_type": "execute_result"
    }
   ],
   "source": [
    "n_con = 28378\n",
    "n_exp = 28325\n",
    "p = 0.5\n",
    "a = 0.05\n",
    "confidence_interval(n_con, n_exp, p, a)"
   ]
  },
  {
   "cell_type": "markdown",
   "metadata": {},
   "source": [
    "## Click Through Probability"
   ]
  },
  {
   "cell_type": "code",
   "execution_count": 141,
   "metadata": {
    "collapsed": true
   },
   "outputs": [],
   "source": [
    "p_con = 28378/345543\n",
    "p_exp = 28325/344660\n",
    "d_min = p_exp - p_con"
   ]
  },
  {
   "cell_type": "code",
   "execution_count": 146,
   "metadata": {
    "collapsed": true
   },
   "outputs": [],
   "source": [
    "p_pool = (28378 + 28325)/(345543 + 344660)"
   ]
  },
  {
   "cell_type": "code",
   "execution_count": 148,
   "metadata": {
    "collapsed": false
   },
   "outputs": [
    {
     "data": {
      "text/plain": [
       "0.0006610608156387222"
      ]
     },
     "execution_count": 148,
     "metadata": {},
     "output_type": "execute_result"
    }
   ],
   "source": [
    "se_pool = math.sqrt(p_pool * (1 - p_pool)*(1/345543 + 1/344660))\n",
    "se_pool"
   ]
  },
  {
   "cell_type": "code",
   "execution_count": 144,
   "metadata": {
    "collapsed": true
   },
   "outputs": [],
   "source": [
    "a = 0.05\n",
    "z = z_score(a)\n",
    "m = z * se_pool"
   ]
  },
  {
   "cell_type": "code",
   "execution_count": 150,
   "metadata": {
    "collapsed": false
   },
   "outputs": [
    {
     "data": {
      "text/plain": [
       "(-0.0012956553902425685, 0.0012956553902425685, 5.662709158693602e-05)"
      ]
     },
     "execution_count": 150,
     "metadata": {},
     "output_type": "execute_result"
    }
   ],
   "source": [
    "-m, m, d_min"
   ]
  },
  {
   "cell_type": "markdown",
   "metadata": {},
   "source": [
    "# Check for Practical and Statistical Significance"
   ]
  },
  {
   "cell_type": "markdown",
   "metadata": {},
   "source": [
    "\n",
    "####  - For your evaluation metrics, calculate a confidence interval for the difference between the experiment and control groups\n",
    "\n",
    "#### - A metric is statistically significant if the confidence interval does not include 0 (that is, you can be confident there was a change)\n",
    "\n",
    "#### - A metric is practically significant if the confidence interval does not include the practical significance boundary (that is, you can be confident there is a change that matters to the business.)"
   ]
  },
  {
   "cell_type": "markdown",
   "metadata": {},
   "source": [
    "### Retention\n",
    "#### - payment/enroll\n",
    "#### - d_min = 0.01"
   ]
  },
  {
   "cell_type": "code",
   "execution_count": 126,
   "metadata": {
    "collapsed": true
   },
   "outputs": [],
   "source": [
    "import pandas as pd"
   ]
  },
  {
   "cell_type": "code",
   "execution_count": 127,
   "metadata": {
    "collapsed": true
   },
   "outputs": [],
   "source": [
    "df1 = pd.read_excel('/Users/shuyijiang1/Downloads/Final Project Results.xlsx', sheetname= 'Control')\n",
    "df2 = pd.read_excel('/Users/shuyijiang1/Downloads/Final Project Results.xlsx', sheetname= 'Experiment')"
   ]
  },
  {
   "cell_type": "code",
   "execution_count": 128,
   "metadata": {
    "collapsed": true
   },
   "outputs": [],
   "source": [
    "df_con = df1[df1['Enrollments'].notnull()]\n",
    "df_exp = df2[df2['Enrollments'].notnull()]"
   ]
  },
  {
   "cell_type": "code",
   "execution_count": 129,
   "metadata": {
    "collapsed": false
   },
   "outputs": [
    {
     "data": {
      "text/html": [
       "<div>\n",
       "<table border=\"1\" class=\"dataframe\">\n",
       "  <thead>\n",
       "    <tr style=\"text-align: right;\">\n",
       "      <th></th>\n",
       "      <th>Date</th>\n",
       "      <th>Pageviews</th>\n",
       "      <th>Clicks</th>\n",
       "      <th>Enrollments</th>\n",
       "      <th>Payments</th>\n",
       "    </tr>\n",
       "  </thead>\n",
       "  <tbody>\n",
       "    <tr>\n",
       "      <th>0</th>\n",
       "      <td>Sat, Oct 11</td>\n",
       "      <td>7723</td>\n",
       "      <td>687</td>\n",
       "      <td>134</td>\n",
       "      <td>70</td>\n",
       "    </tr>\n",
       "    <tr>\n",
       "      <th>1</th>\n",
       "      <td>Sun, Oct 12</td>\n",
       "      <td>9102</td>\n",
       "      <td>779</td>\n",
       "      <td>147</td>\n",
       "      <td>70</td>\n",
       "    </tr>\n",
       "    <tr>\n",
       "      <th>2</th>\n",
       "      <td>Mon, Oct 13</td>\n",
       "      <td>10511</td>\n",
       "      <td>909</td>\n",
       "      <td>167</td>\n",
       "      <td>95</td>\n",
       "    </tr>\n",
       "    <tr>\n",
       "      <th>3</th>\n",
       "      <td>Tue, Oct 14</td>\n",
       "      <td>9871</td>\n",
       "      <td>836</td>\n",
       "      <td>156</td>\n",
       "      <td>105</td>\n",
       "    </tr>\n",
       "    <tr>\n",
       "      <th>4</th>\n",
       "      <td>Wed, Oct 15</td>\n",
       "      <td>10014</td>\n",
       "      <td>837</td>\n",
       "      <td>163</td>\n",
       "      <td>64</td>\n",
       "    </tr>\n",
       "  </tbody>\n",
       "</table>\n",
       "</div>"
      ],
      "text/plain": [
       "          Date  Pageviews  Clicks  Enrollments  Payments\n",
       "0  Sat, Oct 11       7723     687          134        70\n",
       "1  Sun, Oct 12       9102     779          147        70\n",
       "2  Mon, Oct 13      10511     909          167        95\n",
       "3  Tue, Oct 14       9871     836          156       105\n",
       "4  Wed, Oct 15      10014     837          163        64"
      ]
     },
     "execution_count": 129,
     "metadata": {},
     "output_type": "execute_result"
    }
   ],
   "source": [
    "df_con.head()"
   ]
  },
  {
   "cell_type": "code",
   "execution_count": 130,
   "metadata": {
    "collapsed": false
   },
   "outputs": [],
   "source": [
    "p_con = df_con['Payments'].sum()/df_con['Enrollments'].sum()\n",
    "p_exp = df_exp['Payments'].sum()/df_exp['Enrollments'].sum()"
   ]
  },
  {
   "cell_type": "code",
   "execution_count": 131,
   "metadata": {
    "collapsed": false
   },
   "outputs": [],
   "source": [
    "p_pool = (df_con['Payments'].sum() + df_exp['Payments'].sum())/(df_con['Enrollments'].sum() + df_exp['Enrollments'].sum())"
   ]
  },
  {
   "cell_type": "code",
   "execution_count": 132,
   "metadata": {
    "collapsed": false
   },
   "outputs": [
    {
     "data": {
      "text/plain": [
       "(0.537120211360634, 0.5682150160677768, 0.5518867924528302)"
      ]
     },
     "execution_count": 132,
     "metadata": {},
     "output_type": "execute_result"
    }
   ],
   "source": [
    "p_con, p_exp, p_pool"
   ]
  },
  {
   "cell_type": "code",
   "execution_count": 133,
   "metadata": {
    "collapsed": false
   },
   "outputs": [],
   "source": [
    "n1 = df_con['Enrollments'].sum()\n",
    "n2 = df_exp['Enrollments'].sum()"
   ]
  },
  {
   "cell_type": "markdown",
   "metadata": {},
   "source": [
    "#### Calculate Confidenc for difference"
   ]
  },
  {
   "cell_type": "code",
   "execution_count": 135,
   "metadata": {
    "collapsed": false
   },
   "outputs": [],
   "source": [
    "alpha = 0.05\n",
    "z = z_score(alpha)\n",
    "m = z * math.sqrt(p_pool * (1-p_pool) *(1/n1 + 1/n2))"
   ]
  },
  {
   "cell_type": "code",
   "execution_count": 136,
   "metadata": {
    "collapsed": false
   },
   "outputs": [],
   "source": [
    "d_min = p_exp - p_con"
   ]
  },
  {
   "cell_type": "code",
   "execution_count": 137,
   "metadata": {
    "collapsed": false
   },
   "outputs": [
    {
     "data": {
      "text/plain": [
       "(0.0048036436160968678, 0.057385965798188665)"
      ]
     },
     "execution_count": 137,
     "metadata": {},
     "output_type": "execute_result"
    }
   ],
   "source": [
    "d_min - m, d_min + m"
   ]
  },
  {
   "cell_type": "code",
   "execution_count": 113,
   "metadata": {
    "collapsed": false
   },
   "outputs": [
    {
     "name": "stdout",
     "output_type": "stream",
     "text": [
      "statistically significant\n"
     ]
    }
   ],
   "source": [
    "if (0 >= d_min - m) & (0<= d_min + m):\n",
    "    print(\"Not Statistically significant\")\n",
    "else:\n",
    "    print(\"statistically significant\")"
   ]
  },
  {
   "cell_type": "code",
   "execution_count": 114,
   "metadata": {
    "collapsed": false
   },
   "outputs": [
    {
     "name": "stdout",
     "output_type": "stream",
     "text": [
      "Not practically significant\n"
     ]
    }
   ],
   "source": [
    "if (0.01 >= d_min - m) & (0.01 <= d_min + m):\n",
    "    print(\"Not practically significant\")\n",
    "else:\n",
    "    print(\"Practically significant\")"
   ]
  },
  {
   "cell_type": "markdown",
   "metadata": {},
   "source": [
    "### Net Conversion\n",
    "#### - payment/clicks\n",
    "#### - d_min = 0.0075"
   ]
  },
  {
   "cell_type": "code",
   "execution_count": 115,
   "metadata": {
    "collapsed": true
   },
   "outputs": [],
   "source": [
    "p_con = df_con['Payments'].sum()/df_con['Clicks'].sum()\n",
    "p_exp = df_exp['Payments'].sum()/df_exp['Clicks'].sum()\n",
    "p_pool = (df_con['Payments'].sum() + df_exp['Payments'].sum())/(df_con['Clicks'].sum() + df_exp['Clicks'].sum())"
   ]
  },
  {
   "cell_type": "code",
   "execution_count": 116,
   "metadata": {
    "collapsed": false
   },
   "outputs": [
    {
     "data": {
      "text/plain": [
       "(0.11756201931417337, 0.1126882966396292, 0.1151274853124186)"
      ]
     },
     "execution_count": 116,
     "metadata": {},
     "output_type": "execute_result"
    }
   ],
   "source": [
    "p_con, p_exp, p_pool"
   ]
  },
  {
   "cell_type": "code",
   "execution_count": 117,
   "metadata": {
    "collapsed": true
   },
   "outputs": [],
   "source": [
    "n1 = df_con['Clicks'].sum()\n",
    "n2 = df_exp['Clicks'].sum()"
   ]
  },
  {
   "cell_type": "markdown",
   "metadata": {},
   "source": [
    "#### Calculate Confidenc for difference"
   ]
  },
  {
   "cell_type": "code",
   "execution_count": 124,
   "metadata": {
    "collapsed": false
   },
   "outputs": [],
   "source": [
    "alpha = 0.05\n",
    "z = z_score(alpha)\n",
    "m = z * math.sqrt(p_pool * (1-p_pool) *(1/n1 + 1/n2))"
   ]
  },
  {
   "cell_type": "code",
   "execution_count": 119,
   "metadata": {
    "collapsed": false
   },
   "outputs": [
    {
     "data": {
      "text/plain": [
       "-0.0048737226745441675"
      ]
     },
     "execution_count": 119,
     "metadata": {},
     "output_type": "execute_result"
    }
   ],
   "source": [
    "d_min = p_exp - p_con\n",
    "d_min"
   ]
  },
  {
   "cell_type": "code",
   "execution_count": 123,
   "metadata": {
    "collapsed": false
   },
   "outputs": [
    {
     "name": "stdout",
     "output_type": "stream",
     "text": [
      "Not Statistically significant\n",
      "Not Practically significant\n"
     ]
    }
   ],
   "source": [
    "if (0 >= d_min - m) & (0<= d_min + m):\n",
    "    print(\"Not Statistically significant\")\n",
    "    print(\"Not Practically significant\")\n",
    "else:\n",
    "    print(\"statistically significant\")"
   ]
  },
  {
   "cell_type": "code",
   "execution_count": 122,
   "metadata": {
    "collapsed": false
   },
   "outputs": [
    {
     "data": {
      "text/plain": [
       "(-0.011604500677993734, 0.0018570553289054001)"
      ]
     },
     "execution_count": 122,
     "metadata": {},
     "output_type": "execute_result"
    }
   ],
   "source": [
    "d_min - m, d_min + m"
   ]
  },
  {
   "cell_type": "markdown",
   "metadata": {},
   "source": [
    "# Sign Test"
   ]
  },
  {
   "cell_type": "markdown",
   "metadata": {},
   "source": [
    "### Retention\n",
    "#### - payment/enroll\n",
    "#### - d_min = 0.01"
   ]
  },
  {
   "cell_type": "code",
   "execution_count": 151,
   "metadata": {
    "collapsed": true
   },
   "outputs": [],
   "source": [
    "df_con.is_copy = False\n",
    "df_exp.is_copy = False"
   ]
  },
  {
   "cell_type": "code",
   "execution_count": 154,
   "metadata": {
    "collapsed": false
   },
   "outputs": [],
   "source": [
    "df_con['Retention'] = df_con['Payments'] / df_con['Enrollments']\n",
    "df_exp['Retention'] = df_exp['Payments'] /df_exp['Enrollments']"
   ]
  },
  {
   "cell_type": "code",
   "execution_count": 155,
   "metadata": {
    "collapsed": false
   },
   "outputs": [
    {
     "data": {
      "text/html": [
       "<div>\n",
       "<table border=\"1\" class=\"dataframe\">\n",
       "  <thead>\n",
       "    <tr style=\"text-align: right;\">\n",
       "      <th></th>\n",
       "      <th>Date</th>\n",
       "      <th>Pageviews</th>\n",
       "      <th>Clicks</th>\n",
       "      <th>Enrollments</th>\n",
       "      <th>Payments</th>\n",
       "      <th>Retention</th>\n",
       "    </tr>\n",
       "  </thead>\n",
       "  <tbody>\n",
       "    <tr>\n",
       "      <th>0</th>\n",
       "      <td>Sat, Oct 11</td>\n",
       "      <td>7723</td>\n",
       "      <td>687</td>\n",
       "      <td>134</td>\n",
       "      <td>70</td>\n",
       "      <td>0.522388</td>\n",
       "    </tr>\n",
       "    <tr>\n",
       "      <th>1</th>\n",
       "      <td>Sun, Oct 12</td>\n",
       "      <td>9102</td>\n",
       "      <td>779</td>\n",
       "      <td>147</td>\n",
       "      <td>70</td>\n",
       "      <td>0.476190</td>\n",
       "    </tr>\n",
       "    <tr>\n",
       "      <th>2</th>\n",
       "      <td>Mon, Oct 13</td>\n",
       "      <td>10511</td>\n",
       "      <td>909</td>\n",
       "      <td>167</td>\n",
       "      <td>95</td>\n",
       "      <td>0.568862</td>\n",
       "    </tr>\n",
       "    <tr>\n",
       "      <th>3</th>\n",
       "      <td>Tue, Oct 14</td>\n",
       "      <td>9871</td>\n",
       "      <td>836</td>\n",
       "      <td>156</td>\n",
       "      <td>105</td>\n",
       "      <td>0.673077</td>\n",
       "    </tr>\n",
       "    <tr>\n",
       "      <th>4</th>\n",
       "      <td>Wed, Oct 15</td>\n",
       "      <td>10014</td>\n",
       "      <td>837</td>\n",
       "      <td>163</td>\n",
       "      <td>64</td>\n",
       "      <td>0.392638</td>\n",
       "    </tr>\n",
       "  </tbody>\n",
       "</table>\n",
       "</div>"
      ],
      "text/plain": [
       "          Date  Pageviews  Clicks  Enrollments  Payments  Retention\n",
       "0  Sat, Oct 11       7723     687          134        70   0.522388\n",
       "1  Sun, Oct 12       9102     779          147        70   0.476190\n",
       "2  Mon, Oct 13      10511     909          167        95   0.568862\n",
       "3  Tue, Oct 14       9871     836          156       105   0.673077\n",
       "4  Wed, Oct 15      10014     837          163        64   0.392638"
      ]
     },
     "execution_count": 155,
     "metadata": {},
     "output_type": "execute_result"
    }
   ],
   "source": [
    "df_con.head()"
   ]
  },
  {
   "cell_type": "code",
   "execution_count": 163,
   "metadata": {
    "collapsed": false
   },
   "outputs": [
    {
     "data": {
      "text/plain": [
       "True"
      ]
     },
     "execution_count": 163,
     "metadata": {},
     "output_type": "execute_result"
    }
   ],
   "source": [
    "d1 = list(sorted(df_exp['Date'].unique()))\n",
    "d2 = list(sorted(df_exp['Date'].unique()))\n",
    "d1 == d2"
   ]
  },
  {
   "cell_type": "code",
   "execution_count": 166,
   "metadata": {
    "collapsed": false
   },
   "outputs": [
    {
     "data": {
      "text/html": [
       "<div>\n",
       "<table border=\"1\" class=\"dataframe\">\n",
       "  <thead>\n",
       "    <tr style=\"text-align: right;\">\n",
       "      <th></th>\n",
       "      <th>Date</th>\n",
       "      <th>Pageviews</th>\n",
       "      <th>Clicks</th>\n",
       "      <th>Enrollments</th>\n",
       "      <th>Payments</th>\n",
       "      <th>Retention_x</th>\n",
       "      <th>Retention_y</th>\n",
       "    </tr>\n",
       "  </thead>\n",
       "  <tbody>\n",
       "    <tr>\n",
       "      <th>0</th>\n",
       "      <td>Sat, Oct 11</td>\n",
       "      <td>7723</td>\n",
       "      <td>687</td>\n",
       "      <td>134</td>\n",
       "      <td>70</td>\n",
       "      <td>0.522388</td>\n",
       "      <td>0.323810</td>\n",
       "    </tr>\n",
       "    <tr>\n",
       "      <th>1</th>\n",
       "      <td>Sun, Oct 12</td>\n",
       "      <td>9102</td>\n",
       "      <td>779</td>\n",
       "      <td>147</td>\n",
       "      <td>70</td>\n",
       "      <td>0.476190</td>\n",
       "      <td>0.784483</td>\n",
       "    </tr>\n",
       "    <tr>\n",
       "      <th>2</th>\n",
       "      <td>Mon, Oct 13</td>\n",
       "      <td>10511</td>\n",
       "      <td>909</td>\n",
       "      <td>167</td>\n",
       "      <td>95</td>\n",
       "      <td>0.568862</td>\n",
       "      <td>0.544828</td>\n",
       "    </tr>\n",
       "    <tr>\n",
       "      <th>3</th>\n",
       "      <td>Tue, Oct 14</td>\n",
       "      <td>9871</td>\n",
       "      <td>836</td>\n",
       "      <td>156</td>\n",
       "      <td>105</td>\n",
       "      <td>0.673077</td>\n",
       "      <td>0.666667</td>\n",
       "    </tr>\n",
       "    <tr>\n",
       "      <th>4</th>\n",
       "      <td>Wed, Oct 15</td>\n",
       "      <td>10014</td>\n",
       "      <td>837</td>\n",
       "      <td>163</td>\n",
       "      <td>64</td>\n",
       "      <td>0.392638</td>\n",
       "      <td>0.671429</td>\n",
       "    </tr>\n",
       "  </tbody>\n",
       "</table>\n",
       "</div>"
      ],
      "text/plain": [
       "          Date  Pageviews  Clicks  Enrollments  Payments  Retention_x  \\\n",
       "0  Sat, Oct 11       7723     687          134        70     0.522388   \n",
       "1  Sun, Oct 12       9102     779          147        70     0.476190   \n",
       "2  Mon, Oct 13      10511     909          167        95     0.568862   \n",
       "3  Tue, Oct 14       9871     836          156       105     0.673077   \n",
       "4  Wed, Oct 15      10014     837          163        64     0.392638   \n",
       "\n",
       "   Retention_y  \n",
       "0     0.323810  \n",
       "1     0.784483  \n",
       "2     0.544828  \n",
       "3     0.666667  \n",
       "4     0.671429  "
      ]
     },
     "execution_count": 166,
     "metadata": {},
     "output_type": "execute_result"
    }
   ],
   "source": [
    "df_retention = df_con.merge(df_exp[['Date','Retention']], how = 'left', on = 'Date')\n",
    "df_retention.head()"
   ]
  },
  {
   "cell_type": "code",
   "execution_count": 169,
   "metadata": {
    "collapsed": false
   },
   "outputs": [
    {
     "data": {
      "text/html": [
       "<div>\n",
       "<table border=\"1\" class=\"dataframe\">\n",
       "  <thead>\n",
       "    <tr style=\"text-align: right;\">\n",
       "      <th></th>\n",
       "      <th>Date</th>\n",
       "      <th>Pageviews</th>\n",
       "      <th>Clicks</th>\n",
       "      <th>Enrollments</th>\n",
       "      <th>Payments</th>\n",
       "      <th>Retention_x</th>\n",
       "      <th>Retention_y</th>\n",
       "      <th>diff</th>\n",
       "    </tr>\n",
       "  </thead>\n",
       "  <tbody>\n",
       "    <tr>\n",
       "      <th>0</th>\n",
       "      <td>Sat, Oct 11</td>\n",
       "      <td>7723</td>\n",
       "      <td>687</td>\n",
       "      <td>134</td>\n",
       "      <td>70</td>\n",
       "      <td>0.522388</td>\n",
       "      <td>0.323810</td>\n",
       "      <td>-0.198579</td>\n",
       "    </tr>\n",
       "    <tr>\n",
       "      <th>1</th>\n",
       "      <td>Sun, Oct 12</td>\n",
       "      <td>9102</td>\n",
       "      <td>779</td>\n",
       "      <td>147</td>\n",
       "      <td>70</td>\n",
       "      <td>0.476190</td>\n",
       "      <td>0.784483</td>\n",
       "      <td>0.308292</td>\n",
       "    </tr>\n",
       "    <tr>\n",
       "      <th>2</th>\n",
       "      <td>Mon, Oct 13</td>\n",
       "      <td>10511</td>\n",
       "      <td>909</td>\n",
       "      <td>167</td>\n",
       "      <td>95</td>\n",
       "      <td>0.568862</td>\n",
       "      <td>0.544828</td>\n",
       "      <td>-0.024035</td>\n",
       "    </tr>\n",
       "    <tr>\n",
       "      <th>3</th>\n",
       "      <td>Tue, Oct 14</td>\n",
       "      <td>9871</td>\n",
       "      <td>836</td>\n",
       "      <td>156</td>\n",
       "      <td>105</td>\n",
       "      <td>0.673077</td>\n",
       "      <td>0.666667</td>\n",
       "      <td>-0.006410</td>\n",
       "    </tr>\n",
       "    <tr>\n",
       "      <th>4</th>\n",
       "      <td>Wed, Oct 15</td>\n",
       "      <td>10014</td>\n",
       "      <td>837</td>\n",
       "      <td>163</td>\n",
       "      <td>64</td>\n",
       "      <td>0.392638</td>\n",
       "      <td>0.671429</td>\n",
       "      <td>0.278791</td>\n",
       "    </tr>\n",
       "  </tbody>\n",
       "</table>\n",
       "</div>"
      ],
      "text/plain": [
       "          Date  Pageviews  Clicks  Enrollments  Payments  Retention_x  \\\n",
       "0  Sat, Oct 11       7723     687          134        70     0.522388   \n",
       "1  Sun, Oct 12       9102     779          147        70     0.476190   \n",
       "2  Mon, Oct 13      10511     909          167        95     0.568862   \n",
       "3  Tue, Oct 14       9871     836          156       105     0.673077   \n",
       "4  Wed, Oct 15      10014     837          163        64     0.392638   \n",
       "\n",
       "   Retention_y      diff  \n",
       "0     0.323810 -0.198579  \n",
       "1     0.784483  0.308292  \n",
       "2     0.544828 -0.024035  \n",
       "3     0.666667 -0.006410  \n",
       "4     0.671429  0.278791  "
      ]
     },
     "execution_count": 169,
     "metadata": {},
     "output_type": "execute_result"
    }
   ],
   "source": [
    "df_retention['diff'] = df_retention['Retention_y'] - df_retention['Retention_x']\n",
    "df_retention.head()"
   ]
  },
  {
   "cell_type": "code",
   "execution_count": 182,
   "metadata": {
    "collapsed": false
   },
   "outputs": [
    {
     "data": {
      "text/plain": [
       "13"
      ]
     },
     "execution_count": 182,
     "metadata": {},
     "output_type": "execute_result"
    }
   ],
   "source": [
    "positive = df_retention.loc[df_retention['diff'] > 0].shape[0]\n",
    "positive"
   ]
  },
  {
   "cell_type": "code",
   "execution_count": 184,
   "metadata": {
    "collapsed": false
   },
   "outputs": [
    {
     "data": {
      "text/plain": [
       "10"
      ]
     },
     "execution_count": 184,
     "metadata": {},
     "output_type": "execute_result"
    }
   ],
   "source": [
    "negative = df_retention.loc[df_retention['diff'] <= 0].shape[0]\n",
    "negative"
   ]
  },
  {
   "cell_type": "code",
   "execution_count": 185,
   "metadata": {
    "collapsed": false
   },
   "outputs": [
    {
     "data": {
      "text/plain": [
       "0.5652173913043478"
      ]
     },
     "execution_count": 185,
     "metadata": {},
     "output_type": "execute_result"
    }
   ],
   "source": [
    "p = 0.5\n",
    "a= 0.05\n",
    "p_test = positive/(positive + negative)\n",
    "p_test"
   ]
  },
  {
   "cell_type": "markdown",
   "metadata": {},
   "source": [
    "#### Sign test is a binomial distribution, usually when np > 5 and n(1-p) >5 we can use normal distribution"
   ]
  },
  {
   "cell_type": "code",
   "execution_count": 193,
   "metadata": {
    "collapsed": false
   },
   "outputs": [
    {
     "data": {
      "text/plain": [
       "True"
      ]
     },
     "execution_count": 193,
     "metadata": {},
     "output_type": "execute_result"
    }
   ],
   "source": [
    "n = df_retention['diff'].shape[0]\n",
    "n*p > 5"
   ]
  },
  {
   "cell_type": "markdown",
   "metadata": {},
   "source": [
    "###### Confidence Interval"
   ]
  },
  {
   "cell_type": "code",
   "execution_count": 194,
   "metadata": {
    "collapsed": false
   },
   "outputs": [
    {
     "data": {
      "text/plain": [
       "(0.2956596290953305, 0.7043403709046695)"
      ]
     },
     "execution_count": 194,
     "metadata": {},
     "output_type": "execute_result"
    }
   ],
   "source": [
    "z = z_score(a)\n",
    "se = math.sqrt(p*(1-p)/n)\n",
    "p - z*se, p + z*se"
   ]
  },
  {
   "cell_type": "markdown",
   "metadata": {},
   "source": [
    "##### Test P is 0.5652 and within confidence interval range\n",
    "##### And also based on the link below, 2-tailed p value for binomial test is 0.6776\n",
    "###### [This online calculator](https://www.graphpad.com/quickcalcs/binomial2/)"
   ]
  },
  {
   "cell_type": "markdown",
   "metadata": {},
   "source": [
    "### Net Conversion\n",
    "#### - payment/clicks\n",
    "#### - d_min = 0.0075"
   ]
  },
  {
   "cell_type": "code",
   "execution_count": 195,
   "metadata": {
    "collapsed": true
   },
   "outputs": [],
   "source": [
    "df_con['Net_Conversion'] = df_con['Payments'] / df_con['Clicks']\n",
    "df_exp['Net_Conversion'] = df_exp['Payments'] /df_exp['Clicks']"
   ]
  },
  {
   "cell_type": "code",
   "execution_count": 196,
   "metadata": {
    "collapsed": false
   },
   "outputs": [
    {
     "data": {
      "text/html": [
       "<div>\n",
       "<table border=\"1\" class=\"dataframe\">\n",
       "  <thead>\n",
       "    <tr style=\"text-align: right;\">\n",
       "      <th></th>\n",
       "      <th>Date</th>\n",
       "      <th>Pageviews</th>\n",
       "      <th>Clicks</th>\n",
       "      <th>Enrollments</th>\n",
       "      <th>Payments</th>\n",
       "      <th>Retention</th>\n",
       "      <th>Net_Conversion</th>\n",
       "    </tr>\n",
       "  </thead>\n",
       "  <tbody>\n",
       "    <tr>\n",
       "      <th>0</th>\n",
       "      <td>Sat, Oct 11</td>\n",
       "      <td>7723</td>\n",
       "      <td>687</td>\n",
       "      <td>134</td>\n",
       "      <td>70</td>\n",
       "      <td>0.522388</td>\n",
       "      <td>0.101892</td>\n",
       "    </tr>\n",
       "    <tr>\n",
       "      <th>1</th>\n",
       "      <td>Sun, Oct 12</td>\n",
       "      <td>9102</td>\n",
       "      <td>779</td>\n",
       "      <td>147</td>\n",
       "      <td>70</td>\n",
       "      <td>0.476190</td>\n",
       "      <td>0.089859</td>\n",
       "    </tr>\n",
       "    <tr>\n",
       "      <th>2</th>\n",
       "      <td>Mon, Oct 13</td>\n",
       "      <td>10511</td>\n",
       "      <td>909</td>\n",
       "      <td>167</td>\n",
       "      <td>95</td>\n",
       "      <td>0.568862</td>\n",
       "      <td>0.104510</td>\n",
       "    </tr>\n",
       "    <tr>\n",
       "      <th>3</th>\n",
       "      <td>Tue, Oct 14</td>\n",
       "      <td>9871</td>\n",
       "      <td>836</td>\n",
       "      <td>156</td>\n",
       "      <td>105</td>\n",
       "      <td>0.673077</td>\n",
       "      <td>0.125598</td>\n",
       "    </tr>\n",
       "    <tr>\n",
       "      <th>4</th>\n",
       "      <td>Wed, Oct 15</td>\n",
       "      <td>10014</td>\n",
       "      <td>837</td>\n",
       "      <td>163</td>\n",
       "      <td>64</td>\n",
       "      <td>0.392638</td>\n",
       "      <td>0.076464</td>\n",
       "    </tr>\n",
       "  </tbody>\n",
       "</table>\n",
       "</div>"
      ],
      "text/plain": [
       "          Date  Pageviews  Clicks  Enrollments  Payments  Retention  \\\n",
       "0  Sat, Oct 11       7723     687          134        70   0.522388   \n",
       "1  Sun, Oct 12       9102     779          147        70   0.476190   \n",
       "2  Mon, Oct 13      10511     909          167        95   0.568862   \n",
       "3  Tue, Oct 14       9871     836          156       105   0.673077   \n",
       "4  Wed, Oct 15      10014     837          163        64   0.392638   \n",
       "\n",
       "   Net_Conversion  \n",
       "0        0.101892  \n",
       "1        0.089859  \n",
       "2        0.104510  \n",
       "3        0.125598  \n",
       "4        0.076464  "
      ]
     },
     "execution_count": 196,
     "metadata": {},
     "output_type": "execute_result"
    }
   ],
   "source": [
    "df_con.head()"
   ]
  },
  {
   "cell_type": "code",
   "execution_count": null,
   "metadata": {
    "collapsed": true
   },
   "outputs": [],
   "source": [
    "df_netconversion = df_con.merge()"
   ]
  }
 ],
 "metadata": {
  "kernelspec": {
   "display_name": "Python 3",
   "language": "python",
   "name": "python3"
  },
  "language_info": {
   "codemirror_mode": {
    "name": "ipython",
    "version": 3
   },
   "file_extension": ".py",
   "mimetype": "text/x-python",
   "name": "python",
   "nbconvert_exporter": "python",
   "pygments_lexer": "ipython3",
   "version": "3.5.1"
  }
 },
 "nbformat": 4,
 "nbformat_minor": 0
}
